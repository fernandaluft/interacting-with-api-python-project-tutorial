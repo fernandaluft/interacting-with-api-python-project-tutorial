{
    "cells": [
        {
            "cell_type": "markdown",
            "metadata": {},
            "source": [
                "# Explore here"
            ]
        },
        {
            "cell_type": "code",
            "execution_count": 2,
            "metadata": {},
            "outputs": [],
            "source": [
                "from dotenv import load_dotenv\n",
                "load_dotenv()\n",
                "import os\n",
                "import spotipy\n",
                "from spotipy.oauth2 import SpotifyClientCredentials\n",
                "import pandas as pd\n",
                "import matplotlib.pyplot as plt\n",
                "import seaborn as sns\n",
                "\n",
                "client_id = os.environ.get(\"CLIENT_ID\")\n",
                "client_secret = os.environ.get(\"CLIENT_SECRET\")"
            ]
        },
        {
            "cell_type": "code",
            "execution_count": 3,
            "metadata": {},
            "outputs": [],
            "source": [
                "sp = spotipy.Spotify(client_credentials_manager=SpotifyClientCredentials(client_id=client_id, client_secret=client_secret))\n",
                "tracks = sp.artist_top_tracks(artist_id='51Blml2LZPmy7TTiAg47vQ')"
            ]
        },
        {
            "cell_type": "code",
            "execution_count": 61,
            "metadata": {},
            "outputs": [
                {
                    "name": "stderr",
                    "output_type": "stream",
                    "text": [
                        "/tmp/ipykernel_541/2768786336.py:3: FutureWarning: The frame.append method is deprecated and will be removed from pandas in a future version. Use pandas.concat instead.\n",
                        "  df = df.append({'Songs':tracks['tracks'][i]['name'], 'Duration':tracks['tracks'][i]['duration_ms'], 'Popularity':tracks['tracks'][i]['popularity']}, ignore_index=True)\n",
                        "/tmp/ipykernel_541/2768786336.py:3: FutureWarning: The frame.append method is deprecated and will be removed from pandas in a future version. Use pandas.concat instead.\n",
                        "  df = df.append({'Songs':tracks['tracks'][i]['name'], 'Duration':tracks['tracks'][i]['duration_ms'], 'Popularity':tracks['tracks'][i]['popularity']}, ignore_index=True)\n",
                        "/tmp/ipykernel_541/2768786336.py:3: FutureWarning: The frame.append method is deprecated and will be removed from pandas in a future version. Use pandas.concat instead.\n",
                        "  df = df.append({'Songs':tracks['tracks'][i]['name'], 'Duration':tracks['tracks'][i]['duration_ms'], 'Popularity':tracks['tracks'][i]['popularity']}, ignore_index=True)\n",
                        "/tmp/ipykernel_541/2768786336.py:3: FutureWarning: The frame.append method is deprecated and will be removed from pandas in a future version. Use pandas.concat instead.\n",
                        "  df = df.append({'Songs':tracks['tracks'][i]['name'], 'Duration':tracks['tracks'][i]['duration_ms'], 'Popularity':tracks['tracks'][i]['popularity']}, ignore_index=True)\n",
                        "/tmp/ipykernel_541/2768786336.py:3: FutureWarning: The frame.append method is deprecated and will be removed from pandas in a future version. Use pandas.concat instead.\n",
                        "  df = df.append({'Songs':tracks['tracks'][i]['name'], 'Duration':tracks['tracks'][i]['duration_ms'], 'Popularity':tracks['tracks'][i]['popularity']}, ignore_index=True)\n",
                        "/tmp/ipykernel_541/2768786336.py:3: FutureWarning: The frame.append method is deprecated and will be removed from pandas in a future version. Use pandas.concat instead.\n",
                        "  df = df.append({'Songs':tracks['tracks'][i]['name'], 'Duration':tracks['tracks'][i]['duration_ms'], 'Popularity':tracks['tracks'][i]['popularity']}, ignore_index=True)\n",
                        "/tmp/ipykernel_541/2768786336.py:3: FutureWarning: The frame.append method is deprecated and will be removed from pandas in a future version. Use pandas.concat instead.\n",
                        "  df = df.append({'Songs':tracks['tracks'][i]['name'], 'Duration':tracks['tracks'][i]['duration_ms'], 'Popularity':tracks['tracks'][i]['popularity']}, ignore_index=True)\n",
                        "/tmp/ipykernel_541/2768786336.py:3: FutureWarning: The frame.append method is deprecated and will be removed from pandas in a future version. Use pandas.concat instead.\n",
                        "  df = df.append({'Songs':tracks['tracks'][i]['name'], 'Duration':tracks['tracks'][i]['duration_ms'], 'Popularity':tracks['tracks'][i]['popularity']}, ignore_index=True)\n",
                        "/tmp/ipykernel_541/2768786336.py:3: FutureWarning: The frame.append method is deprecated and will be removed from pandas in a future version. Use pandas.concat instead.\n",
                        "  df = df.append({'Songs':tracks['tracks'][i]['name'], 'Duration':tracks['tracks'][i]['duration_ms'], 'Popularity':tracks['tracks'][i]['popularity']}, ignore_index=True)\n",
                        "/tmp/ipykernel_541/2768786336.py:3: FutureWarning: The frame.append method is deprecated and will be removed from pandas in a future version. Use pandas.concat instead.\n",
                        "  df = df.append({'Songs':tracks['tracks'][i]['name'], 'Duration':tracks['tracks'][i]['duration_ms'], 'Popularity':tracks['tracks'][i]['popularity']}, ignore_index=True)\n"
                    ]
                }
            ],
            "source": [
                "df = pd.DataFrame(columns=['Songs', 'Duration', 'Popularity'])\n",
                "for i in range(len(tracks['tracks'])):\n",
                "    df = df.append({'Songs':tracks['tracks'][i]['name'], 'Duration':tracks['tracks'][i]['duration_ms'], 'Popularity':tracks['tracks'][i]['popularity']}, ignore_index=True)"
            ]
        },
        {
            "cell_type": "code",
            "execution_count": 63,
            "metadata": {},
            "outputs": [],
            "source": [
                "for item in df['Duration']:\n",
                "  df['Duration'].replace(item, ((item/(1000*60))%60), inplace=True)"
            ]
        },
        {
            "cell_type": "code",
            "execution_count": 64,
            "metadata": {},
            "outputs": [
                {
                    "data": {
                        "text/html": [
                            "<div>\n",
                            "<style scoped>\n",
                            "    .dataframe tbody tr th:only-of-type {\n",
                            "        vertical-align: middle;\n",
                            "    }\n",
                            "\n",
                            "    .dataframe tbody tr th {\n",
                            "        vertical-align: top;\n",
                            "    }\n",
                            "\n",
                            "    .dataframe thead th {\n",
                            "        text-align: right;\n",
                            "    }\n",
                            "</style>\n",
                            "<table border=\"1\" class=\"dataframe\">\n",
                            "  <thead>\n",
                            "    <tr style=\"text-align: right;\">\n",
                            "      <th></th>\n",
                            "      <th>Songs</th>\n",
                            "      <th>Duration</th>\n",
                            "      <th>Popularity</th>\n",
                            "    </tr>\n",
                            "  </thead>\n",
                            "  <tbody>\n",
                            "    <tr>\n",
                            "      <th>5</th>\n",
                            "      <td>Pride (In The Name Of Love) - Remastered 2009</td>\n",
                            "      <td>3.807100</td>\n",
                            "      <td>65</td>\n",
                            "    </tr>\n",
                            "    <tr>\n",
                            "      <th>2</th>\n",
                            "      <td>Beautiful Day</td>\n",
                            "      <td>4.106667</td>\n",
                            "      <td>68</td>\n",
                            "    </tr>\n",
                            "    <tr>\n",
                            "      <th>8</th>\n",
                            "      <td>Sweetest Thing</td>\n",
                            "      <td>3.075717</td>\n",
                            "      <td>70</td>\n",
                            "    </tr>\n",
                            "  </tbody>\n",
                            "</table>\n",
                            "</div>"
                        ],
                        "text/plain": [
                            "                                           Songs  Duration Popularity\n",
                            "5  Pride (In The Name Of Love) - Remastered 2009  3.807100         65\n",
                            "2                                  Beautiful Day  4.106667         68\n",
                            "8                                 Sweetest Thing  3.075717         70"
                        ]
                    },
                    "execution_count": 64,
                    "metadata": {},
                    "output_type": "execute_result"
                }
            ],
            "source": [
                "df = df.sort_values(by='Popularity')\n",
                "df.head(3)"
            ]
        },
        {
            "cell_type": "code",
            "execution_count": 65,
            "metadata": {},
            "outputs": [
                {
                    "data": {
                        "image/png": "[encoded data removed]",
                        "text/plain": [
                            "<Figure size 640x480 with 1 Axes>"
                        ]
                    },
                    "metadata": {},
                    "output_type": "display_data"
                }
            ],
            "source": [
                "sns.scatterplot(df, x='Popularity', y='Duration')\n",
                "plt.title('Correlation between Popularity and Duration of a Song')\n",
                "plt.xlabel('Popularity')\n",
                "plt.ylabel('Duration')\n",
                "plt.tight_layout()\n",
                "plt.show()"
            ]
        },
        {
            "cell_type": "code",
            "execution_count": null,
            "metadata": {},
            "outputs": [],
            "source": []
        }
    ],
    "metadata": {
        "kernelspec": {
            "display_name": "Python 3.8.13 64-bit ('3.8.13')",
            "language": "python",
            "name": "python3"
        },
        "language_info": {
            "codemirror_mode": {
                "name": "ipython",
                "version": 3
            },
            "file_extension": ".py",
            "mimetype": "text/x-python",
            "name": "python",
            "nbconvert_exporter": "python",
            "pygments_lexer": "ipython3",
            "version": "3.11.4"
        },
        "orig_nbformat": 4,
        "vscode": {
            "interpreter": {
                "hash": "110cc1dee26208153f2972f08a2ad52b6a56238dc66d48e87fb757ef2996db56"
            }
        }
    },
    "nbformat": 4,
    "nbformat_minor": 2
}
